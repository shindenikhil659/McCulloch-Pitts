{
 "cells": [
  {
   "cell_type": "code",
   "execution_count": 1,
   "id": "91227878",
   "metadata": {},
   "outputs": [],
   "source": [
    "# Generate ANDNOT function using McCulloch-Pitts neural net by a python program"
   ]
  },
  {
   "cell_type": "code",
   "execution_count": null,
   "id": "31fec5b5",
   "metadata": {},
   "outputs": [],
   "source": []
  },
  {
   "cell_type": "code",
   "execution_count": 11,
   "id": "bf06e416",
   "metadata": {},
   "outputs": [],
   "source": [
    "def mc_culloch_pitts(x1, x2):\n",
    "    weight1 = -1\n",
    "    weight2 = 1\n",
    "    theta = 0 # It's a threshold value, it's state wheather the activation function shpuld activate or not\n",
    "    \n",
    "    weighed_sum = weight1 * x1 + weight2 * x2\n",
    "    \n",
    "    output = 0 if weighed_sum >= theta else 1\n",
    "    \n",
    "    return output"
   ]
  },
  {
   "cell_type": "code",
   "execution_count": 12,
   "id": "7ca4ea4b",
   "metadata": {},
   "outputs": [
    {
     "name": "stdout",
     "output_type": "stream",
     "text": [
      "ANDNOT ( 1, 1) = 0\n",
      "ANDNOT ( 1, 0) = 1\n",
      "ANDNOT ( 0, 1) = 0\n",
      "ANDNOT ( 0, 0) = 0\n"
     ]
    }
   ],
   "source": [
    "inputs = [(1,1), (1,0), (0,1), (0,0)]\n",
    "\n",
    "for x1, x2 in inputs:\n",
    "    res = mc_culloch_pitts(x1, x2)\n",
    "    print(f\"ANDNOT ( {x1}, {x2}) = {res}\" )"
   ]
  },
  {
   "cell_type": "code",
   "execution_count": null,
   "id": "76ba6a67",
   "metadata": {},
   "outputs": [],
   "source": []
  }
 ],
 "metadata": {
  "kernelspec": {
   "display_name": "Python 3 (ipykernel)",
   "language": "python",
   "name": "python3"
  },
  "language_info": {
   "codemirror_mode": {
    "name": "ipython",
    "version": 3
   },
   "file_extension": ".py",
   "mimetype": "text/x-python",
   "name": "python",
   "nbconvert_exporter": "python",
   "pygments_lexer": "ipython3",
   "version": "3.9.13"
  }
 },
 "nbformat": 4,
 "nbformat_minor": 5
}
